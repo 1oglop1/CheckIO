{
 "cells": [
  {
   "cell_type": "markdown",
   "metadata": {
    "collapsed": true
   },
   "source": [
    "Minimum steps to 1\n",
    "\n",
    "input: num\n",
    "conditions: \n",
    "F(num) =   1 + min{  F(num-1) ,  F(num/2)  ,  F(num/3)  }  if (num>1) , else 0  ( i.e., F(1) = 0 ) \n",
    "\n",
    "n = n-1 * n-2\n",
    "fib(3) = fib(2) * fib(1)"
   ]
  },
  {
   "cell_type": "code",
   "execution_count": 1,
   "metadata": {
    "collapsed": true
   },
   "outputs": [],
   "source": [
    "from bs4 import BeautifulSoup\n",
    "import requests as r\n",
    "import os"
   ]
  },
  {
   "cell_type": "code",
   "execution_count": 2,
   "metadata": {
    "collapsed": true
   },
   "outputs": [],
   "source": [
    "url = 'https://checkio.org/user/oglop/list/'"
   ]
  },
  {
   "cell_type": "code",
   "execution_count": 3,
   "metadata": {
    "collapsed": true
   },
   "outputs": [],
   "source": [
    "res = r.get(url)"
   ]
  },
  {
   "cell_type": "code",
   "execution_count": 4,
   "metadata": {
    "collapsed": true
   },
   "outputs": [],
   "source": [
    "soup = BeautifulSoup(res.text, 'html.parser')"
   ]
  },
  {
   "cell_type": "code",
   "execution_count": 5,
   "metadata": {
    "collapsed": false
   },
   "outputs": [],
   "source": [
    "sections = soup.find_all('div', class_='section')"
   ]
  },
  {
   "cell_type": "code",
   "execution_count": 6,
   "metadata": {
    "collapsed": false,
    "scrolled": false
   },
   "outputs": [],
   "source": [
    "main_divs = sections[0].find_all('div', class_=\"block_progress_main\")"
   ]
  },
  {
   "cell_type": "code",
   "execution_count": 7,
   "metadata": {
    "collapsed": false
   },
   "outputs": [],
   "source": [
    "sec_name_tag = sections[0].find('div', class_=\"section-header\")"
   ]
  },
  {
   "cell_type": "code",
   "execution_count": 14,
   "metadata": {
    "collapsed": false
   },
   "outputs": [
    {
     "data": {
      "text/plain": [
       "<div class=\"section-header\"> Home</div>"
      ]
     },
     "execution_count": 14,
     "metadata": {},
     "output_type": "execute_result"
    }
   ],
   "source": [
    "sec_name_tag"
   ]
  },
  {
   "cell_type": "code",
   "execution_count": 13,
   "metadata": {
    "collapsed": false,
    "scrolled": true
   },
   "outputs": [
    {
     "ename": "NameError",
     "evalue": "name 'a' is not defined",
     "output_type": "error",
     "traceback": [
      "\u001b[1;31m---------------------------------------------------------------------------\u001b[0m",
      "\u001b[1;31mNameError\u001b[0m                                 Traceback (most recent call last)",
      "\u001b[1;32m<ipython-input-13-5ce8b9f06d6b>\u001b[0m in \u001b[0;36m<module>\u001b[1;34m()\u001b[0m\n\u001b[1;32m----> 1\u001b[1;33m \u001b[0ma\u001b[0m\u001b[1;33m.\u001b[0m\u001b[0mimg\u001b[0m\u001b[1;33m\u001b[0m\u001b[0m\n\u001b[0m",
      "\u001b[1;31mNameError\u001b[0m: name 'a' is not defined"
     ]
    }
   ],
   "source": []
  },
  {
   "cell_type": "code",
   "execution_count": 17,
   "metadata": {
    "collapsed": false
   },
   "outputs": [],
   "source": []
  },
  {
   "cell_type": "code",
   "execution_count": 16,
   "metadata": {
    "collapsed": false
   },
   "outputs": [
    {
     "name": "stdout",
     "output_type": "stream",
     "text": [
      "/mission/non-unique-elements/\n",
      "stations/Home/Non-unique Elements\n",
      "/mission/median/\n",
      "stations/Home/Median\n",
      "/mission/house-password/\n",
      "stations/Home/House password\n",
      "/mission/count-neighbours/\n",
      "stations/Home/Moore Neighbourhood\n",
      "/mission/most-wanted-letter/\n",
      "stations/Home/The Most Wanted Letter\n",
      "/mission/x-o-referee/\n",
      "stations/Home/Xs and Os Referee\n",
      "/mission/flatten-dict/\n",
      "stations/Home/The Flat Dictionary\n",
      "/mission/pawn-brotherhood/\n",
      "stations/Home/Pawn Brotherhood\n",
      "/mission/find-friends/\n",
      "stations/Home/How to find friends\n",
      "/mission/feed-pigeons/\n",
      "stations/Home/Feed Pigeons\n",
      "/mission/the-longest-palindromic/\n",
      "stations/Home/The Longest Palindromic\n",
      "/mission/roman-numerals/\n",
      "stations/Home/Roman numerals\n",
      "/mission/min-max/\n",
      "stations/Home/Min and Max\n",
      "/mission/solution-for-anything/\n",
      "stations/Home/Solution for anything\n",
      "/mission/the-best-number-ever/\n",
      "stations/Home/The best number ever\n",
      "/mission/fizz-buzz/\n",
      "stations/Elementary/Fizz Buzz\n",
      "/mission/index-power/\n",
      "stations/Elementary/Index Power\n",
      "/mission/even-last/\n",
      "stations/Elementary/Even the last\n",
      "/mission/monkey-typing/\n",
      "stations/Elementary/Monkey Typing\n",
      "/mission/secret-message/\n",
      "stations/Elementary/Secret Message\n",
      "/mission/three-words/\n",
      "stations/Elementary/Three words\n",
      "/mission/most-numbers/\n",
      "stations/Elementary/The Most Numbers\n",
      "/mission/boolean-algebra/\n",
      "stations/Elementary/Boolean Algebra\n",
      "/mission/right-to-left/\n",
      "stations/Elementary/Right to Left\n",
      "/mission/digits-multiplication/\n",
      "stations/Elementary/Digits Multiplication\n",
      "/mission/count-inversions/\n",
      "stations/Elementary/Count Inversions\n",
      "/mission/end-of-other/\n",
      "stations/Elementary/The end of other\n",
      "/mission/days-diff/\n",
      "stations/Elementary/Days Between\n",
      "/mission/pangram/\n",
      "stations/Elementary/Pangram\n",
      "/mission/binary-count/\n",
      "stations/Elementary/Binary count\n",
      "/mission/number-radix/\n",
      "stations/Elementary/Number Base\n",
      "/mission/common-words/\n",
      "stations/Elementary/Common Words\n",
      "/mission/absolute-sorting/\n",
      "stations/Elementary/Absolute sorting\n",
      "/mission/building-base/\n",
      "stations/Elementary/Building Base\n",
      "/mission/friends/\n",
      "stations/Elementary/Friends\n",
      "/mission/i-love-python/\n",
      "stations/Elementary/I love Python!\n"
     ]
    }
   ],
   "source": [
    "for section in sections:\n",
    "    section_name = section.find('div', class_=\"section-header\").string.strip()\n",
    "    main_divs = section.find_all('div', class_=\"block_progress_main\")\n",
    "    for d in main_divs:\n",
    "        a_tag = d.a\n",
    "        print(a_tag.attrs['href'])\n",
    "        mission_name = a_tag.img.attrs['title']\n",
    "        #os.mkdir('solutions/')\n",
    "        dir_name = \"stations/{sec}/{mis}\".format(sec=section_name, mis=mission_name)\n",
    "        print(dir_name)\n",
    "        os.makedirs(dir_name)\n",
    "        create_file(dir_name+'/checkio.py', mission_name, base_url)\n",
    "        #os.mknod(dir_name+'/checkio.py')"
   ]
  },
  {
   "cell_type": "code",
   "execution_count": 22,
   "metadata": {
    "collapsed": false
   },
   "outputs": [],
   "source": [
    "def create_file(file_name, mission, link):\n",
    "    with open(file_name, 'w+') as fout:\n",
    "        doc_string = '\"\"\"{mis} - https://checkio.org/{lnk}\"\"\"\\n'.format(mis=mission, lnk=link)\n",
    "        print(doc_string, file=fout)"
   ]
  },
  {
   "cell_type": "code",
   "execution_count": 65,
   "metadata": {
    "collapsed": false
   },
   "outputs": [],
   "source": [
    "os.makedirs('kolo/zeman1/ap')"
   ]
  },
  {
   "cell_type": "code",
   "execution_count": 67,
   "metadata": {
    "collapsed": true
   },
   "outputs": [],
   "source": [
    "os.mknod('file.txt')"
   ]
  },
  {
   "cell_type": "code",
   "execution_count": 68,
   "metadata": {
    "collapsed": false
   },
   "outputs": [
    {
     "name": "stdout",
     "output_type": "stream",
     "text": [
      "Chkio.py  file.txt  mock.py  \u001b[0m\u001b[01;34mstations\u001b[0m/  Untitled.ipynb\r\n"
     ]
    }
   ],
   "source": [
    "ls\n"
   ]
  },
  {
   "cell_type": "code",
   "execution_count": 18,
   "metadata": {
    "collapsed": true
   },
   "outputs": [],
   "source": [
    "mission = \"Kolo za 3\"; link=\"mise/odkas\""
   ]
  },
  {
   "cell_type": "code",
   "execution_count": 19,
   "metadata": {
    "collapsed": true
   },
   "outputs": [],
   "source": [
    "doc_string = '\"\"\"{mis} - https://checkio.org/{lnk}\"\"\"\\n'.format(mis=mission, lnk=link)"
   ]
  },
  {
   "cell_type": "code",
   "execution_count": 21,
   "metadata": {
    "collapsed": false
   },
   "outputs": [
    {
     "name": "stdout",
     "output_type": "stream",
     "text": [
      "\"\"\"Kolo za 3 - https://checkio.org/mise/odkas\"\"\"\n",
      "\n"
     ]
    }
   ],
   "source": [
    "print(doc_string)"
   ]
  },
  {
   "cell_type": "code",
   "execution_count": null,
   "metadata": {
    "collapsed": true
   },
   "outputs": [],
   "source": []
  }
 ],
 "metadata": {
  "kernelspec": {
   "display_name": "Python 3",
   "language": "python",
   "name": "python3"
  },
  "language_info": {
   "codemirror_mode": {
    "name": "ipython",
    "version": 3
   },
   "file_extension": ".py",
   "mimetype": "text/x-python",
   "name": "python",
   "nbconvert_exporter": "python",
   "pygments_lexer": "ipython3",
   "version": "3.4.3"
  }
 },
 "nbformat": 4,
 "nbformat_minor": 0
}
